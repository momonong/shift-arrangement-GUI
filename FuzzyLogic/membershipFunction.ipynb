{
 "cells": [
  {
   "cell_type": "code",
   "execution_count": 1,
   "metadata": {},
   "outputs": [],
   "source": [
    "import numpy as np\n",
    "import skfuzzy as fuzz"
   ]
  },
  {
   "cell_type": "code",
   "execution_count": 2,
   "metadata": {},
   "outputs": [],
   "source": [
    "def getAxisValues(axis,stepSize):\n",
    "    return np.arange(axis['xmin'], axis['xmax'], stepSize)\n",
    "pass"
   ]
  },
  {
   "cell_type": "code",
   "execution_count": 3,
   "metadata": {},
   "outputs": [],
   "source": [
    "def linearFunction(points, xrange):\n",
    "    values = []\n",
    "    for x in xrange:\n",
    "        if x<points['a']:\n",
    "            values.append(0) \n",
    "        elif (x>=points['a'] and x<points['b']):\n",
    "            values.append((x-points['a'])/(points['b'] - points['a']))\n",
    "        elif x>=points['b']:\n",
    "            values.append(1)\n",
    "    return values\n",
    "pass"
   ]
  },
  {
   "cell_type": "code",
   "execution_count": 4,
   "metadata": {},
   "outputs": [],
   "source": [
    "def triangleFunction(points, xrange):\n",
    "    values = []\n",
    "    for x in xrange:\n",
    "        if x <= points['a']:\n",
    "            values.append(0)\n",
    "        elif (x >= points['a'] and x <= points['b']):\n",
    "            values.append((x-points['a'])/(points['b'] - points['a']))\n",
    "        elif x >= points['b'] and x <= points['c']:\n",
    "            values.append((points['c']-x)/(points['c'] - points['b']))\n",
    "        elif x >= points['c']:\n",
    "            values.append(0)\n",
    "    return values\n",
    "pass"
   ]
  },
  {
   "cell_type": "code",
   "execution_count": 5,
   "metadata": {},
   "outputs": [],
   "source": [
    "def trapezoidalFunction(points, xrange):\n",
    "    values = []\n",
    "    for x in xrange:\n",
    "        if x <= points['a']:\n",
    "            values.append(0)\n",
    "        elif (x >= points['a'] and x <= points['b']):\n",
    "            values.append((x-points['a'])/(points['b'] - points['a']))\n",
    "        elif x >= points['b'] and x <= points['c']:\n",
    "            values.append(1)\n",
    "        elif (x >= points['c'] and x <= points['d']):\n",
    "            values.append((points['d']-x)/(points['d'] - points['c']))\n",
    "        elif x >= points['d']:\n",
    "            values.append(0)\n",
    "    return values\n",
    "pass"
   ]
  },
  {
   "cell_type": "code",
   "execution_count": 6,
   "metadata": {},
   "outputs": [],
   "source": [
    "def generalizedBellFunction(generalizedBellData, xrange):\n",
    "    return fuzz.gbellmf(xrange, generalizedBellData['width'],generalizedBellData['slope'],generalizedBellData['center'])\n",
    "pass"
   ]
  },
  {
   "cell_type": "code",
   "execution_count": 7,
   "metadata": {},
   "outputs": [],
   "source": [
    "def gaussianFunction(gaussianData, xrange):\n",
    "    return fuzz.gaussmf(xrange, gaussianData['mean'], gaussianData['sigma'])\n"
   ]
  },
  {
   "cell_type": "code",
   "execution_count": null,
   "metadata": {},
   "outputs": [],
   "source": []
  }
 ],
 "metadata": {
  "kernelspec": {
   "display_name": "Python 3",
   "language": "python",
   "name": "python3"
  },
  "language_info": {
   "codemirror_mode": {
    "name": "ipython",
    "version": 3
   },
   "file_extension": ".py",
   "mimetype": "text/x-python",
   "name": "python",
   "nbconvert_exporter": "python",
   "pygments_lexer": "ipython3",
   "version": "3.10.6"
  },
  "orig_nbformat": 4,
  "vscode": {
   "interpreter": {
    "hash": "709dd738364228a0d63a357068e3f2f8844b2f41160424bdd6a95ba7108b19a4"
   }
  }
 },
 "nbformat": 4,
 "nbformat_minor": 2
}
